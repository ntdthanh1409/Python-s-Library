{
  "nbformat": 4,
  "nbformat_minor": 0,
  "metadata": {
    "colab": {
      "name": "thuviencacthu.ipynb",
      "provenance": [],
      "collapsed_sections": [],
      "authorship_tag": "ABX9TyORiEFpMlc3E6LH5p0xAzL6",
      "include_colab_link": true
    },
    "kernelspec": {
      "display_name": "Python 3",
      "name": "python3"
    }
  },
  "cells": [
    {
      "cell_type": "markdown",
      "metadata": {
        "id": "view-in-github",
        "colab_type": "text"
      },
      "source": [
        "<a href=\"https://colab.research.google.com/github/ntdthanh1409/Th-Vi-n-Python/blob/main/thuviencacthu.ipynb\" target=\"_parent\"><img src=\"https://colab.research.google.com/assets/colab-badge.svg\" alt=\"Open In Colab\"/></a>"
      ]
    },
    {
      "cell_type": "markdown",
      "metadata": {
        "id": "1bJLXWCbPeF5"
      },
      "source": [
        "Thư viện Numpy"
      ]
    },
    {
      "cell_type": "markdown",
      "metadata": {
        "id": "9X8wwh8iUT6Z"
      },
      "source": [
        "Khởi tạo vector, ma trận\r\n",
        "\r\n"
      ]
    },
    {
      "cell_type": "code",
      "metadata": {
        "id": "lIV1SbPqPga0"
      },
      "source": [
        "import numpy as np\r\n",
        "\r\n",
        "\r\n",
        "a = np.array([[4,5,6], \r\n",
        "              [1,2,3],\r\n",
        "              [1,5,5]])\r\n",
        "b = np.array([[3,5,6], \r\n",
        "              [3,5,7],\r\n",
        "              [3,4,5]])\r\n",
        "#c = np.random.randint(a,b+1,size=(c, d)) #Tạo ma trận ngẫu nhiên cấp c x d với các số nguyên trong đoạn a đến b\r\n",
        "d = np.linalg.matrix_rank(a) #Tính hạng của ma trận a\r\n",
        "#Ma trận đơn vị với kích thước n\r\n",
        "b = np.eye(n)\r\n",
        "#Tạo ma trận với giá trị mặc định là 1 \r\n",
        "mot= np.ones((3,4))\r\n"
      ],
      "execution_count": null,
      "outputs": []
    },
    {
      "cell_type": "markdown",
      "metadata": {
        "id": "7sXV_vrUT-3x"
      },
      "source": [
        "Các toán tử"
      ]
    },
    {
      "cell_type": "code",
      "metadata": {
        "id": "neJT-mKhTc2w"
      },
      "source": [
        "tong = a + b\r\n",
        "tich = a @ b #hoặc a.dot(b)\r\n",
        "hieu = a - b\r\n",
        "chuyen_vi = np.transpose(a)\r\n",
        "\r\n",
        "print(\"Tổng của hai ma trận:\\n\",a)\r\n",
        "print(\"Tích của hai ma trận:\\n\",b)\r\n",
        "print(\"Ma trận chuyển vị của a là:\\n\",chuyen_vi)\r\n",
        "print(\"Hiệu của 2 ma trận: \\n\",hieu)"
      ],
      "execution_count": null,
      "outputs": []
    },
    {
      "cell_type": "markdown",
      "metadata": {
        "id": "H_xDjLlXVrzh"
      },
      "source": [
        "Lấy giá trị ở vị trí nào"
      ]
    },
    {
      "cell_type": "code",
      "metadata": {
        "id": "czuOP2ybVvNJ",
        "colab": {
          "base_uri": "https://localhost:8080/"
        },
        "outputId": "159707be-8cef-4061-9a06-13fa2f33b72b"
      },
      "source": [
        "#Kĩ thuật slicing (lấy trong khoảng)\r\n",
        "import numpy as np \r\n",
        "\r\n",
        "\r\n",
        "a = np.array([[1,1,-1,2,1],\r\n",
        "[2,3,-1,4,5],\r\n",
        "[3,2,-3,7,4],\r\n",
        "[-1,1,2,-3,1]])\r\n",
        "print(a[n:m+1,x:y+1]) # Lấy từ dòng n đến dòng m, cột x đến cột y nếu để trống thì lấy từ vị trí 0 đến vị trí cuối cùng (bắt đầu từ 0 như list hoặc tuple)\r\n",
        "\r\n",
        "Lấy cụ thể từng giá trị\r\n",
        "print(a[a,b]) #lấy phần tử ở dòng a cột b (bắt đầu từ 0 như list hoặc tuple)"
      ],
      "execution_count": 1,
      "outputs": [
        {
          "output_type": "stream",
          "text": [
            "-1\n"
          ],
          "name": "stdout"
        }
      ]
    },
    {
      "cell_type": "markdown",
      "metadata": {
        "id": "eWm3YNl-CsgS"
      },
      "source": [
        "Kích thước của ma trận"
      ]
    },
    {
      "cell_type": "code",
      "metadata": {
        "id": "w4DBtJc1Cw7o"
      },
      "source": [
        "#Sử dụng hàm size\r\n",
        "import numpy as np \r\n",
        "\r\n",
        "\r\n",
        "a = np.array([[1,1,-1,2,1],\r\n",
        "[2,3,-1,4,5],\r\n",
        "[3,2,-3,7,4],\r\n",
        "[-1,1,2,-3,1]])\r\n",
        "k = np.size(a,x) #x: nếu là 0 sẽ trả về số hàng, 1 trả về số cột, mặc định trả về số phần tử."
      ],
      "execution_count": null,
      "outputs": []
    },
    {
      "cell_type": "markdown",
      "metadata": {
        "id": "sw_tLurdGc7m"
      },
      "source": [
        "Sum,Max,Min của ma trận"
      ]
    },
    {
      "cell_type": "code",
      "metadata": {
        "id": "j0UII4BjGcrn"
      },
      "source": [
        "import numpy as np \r\n",
        "\r\n",
        "\r\n",
        "a = np.array([[1,1,-1,2,1],\r\n",
        "[2,3,-1,4,5],\r\n",
        "[3,2,-3,7,4],\r\n",
        "[-1,1,2,-3,1]])\r\n",
        "k = np.sum(a)\r\n",
        "h = np.max(a,0)\r\n",
        "z = np.min(a,1)\r\n",
        "#nếu là 0 sẽ tính theo cột, 1 sẽ tính theo hàng, mặc định sẽ tính trên cả ma trận."
      ],
      "execution_count": null,
      "outputs": []
    }
  ]
}